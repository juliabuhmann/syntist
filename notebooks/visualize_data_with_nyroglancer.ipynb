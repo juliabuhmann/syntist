{
 "cells": [
  {
   "cell_type": "code",
   "execution_count": 402,
   "metadata": {},
   "outputs": [
    {
     "data": {
      "text/html": [
       "<style>.container { width:100% !important; }</style>"
      ],
      "text/plain": [
       "<IPython.core.display.HTML object>"
      ]
     },
     "metadata": {},
     "output_type": "display_data"
    }
   ],
   "source": [
    "import nyroglancer\n",
    "import h5py\n",
    "import numpy as np\n",
    "import os\n",
    "import glob\n",
    "import sys\n",
    "from IPython.core.display import display, HTML\n",
    "\n",
    "display(HTML(\"<style>.container { width:100% !important; }</style>\"))"
   ]
  },
  {
   "cell_type": "code",
   "execution_count": 403,
   "metadata": {},
   "outputs": [],
   "source": [
    "filename = '../data/cremi_exampledataset.h5' # Add downloaded cropped CREMI example dataset do data - or change filename (see README)\n",
    "f = h5py.File(filename, 'r')\n",
    "affs_map = f['prediction'].value\n",
    "neuronseg = f['segmentation'].value\n",
    "raw = f['raw'].value\n",
    "f.close()\n",
    "\n",
    "presynapse = np.max(affs_map, axis=0) # Compress 14 direction vectors into one single channel for visualization."
   ]
  },
  {
   "cell_type": "code",
   "execution_count": 499,
   "metadata": {},
   "outputs": [
    {
     "data": {
      "text/html": [
       "<iframe src=\"http://localhost:8894/neuroglancer#!%7B%22layers%22:%7B%22raw%22:%7B%22source%22:%22python://http://localhost:8894/8234c761ae1d2eebc2735c8b7c492934ba034602%22,%22type%22:%22image%22%7D,%22predicted_pre%22:%7B%22source%22:%22python://http://localhost:8894/733cd5fbd15e380fdcb5dfeebab0e6113e6b3b27%22,%22type%22:%22image%22%7D,%22neurons%22:%7B%22source%22:%22python://http://localhost:8894/135fcb9481026c42977db2ce46b1a5d66c063ff5%22,%22type%22:%22segmentation%22%7D%7D%7D\" width=\"100%\" height=\"1024px\"><\\iframe>"
      ],
      "text/plain": [
       "<IPython.core.display.HTML object>"
      ]
     },
     "execution_count": 499,
     "metadata": {},
     "output_type": "execute_result"
    }
   ],
   "source": [
    "\n",
    "voxel_size = [4, 4, 40]\n",
    "viewer = nyroglancer.Viewer()\n",
    "viewer.add(raw, voxel_size=voxel_size, name='raw')\n",
    "viewer.add(presynapse.astype(np.float32), voxel_size=voxel_size, name='predicted_pre')\n",
    "viewer.add(neuronseg.astype(np.uint32), voxel_size=voxel_size, name='neurons')\n",
    "viewer.set_hostname('localhost:8894')\n",
    "viewer.show()"
   ]
  }
 ],
 "metadata": {
  "kernelspec": {
   "display_name": "Python 2",
   "language": "python",
   "name": "python2"
  },
  "language_info": {
   "codemirror_mode": {
    "name": "ipython",
    "version": 2
   },
   "file_extension": ".py",
   "mimetype": "text/x-python",
   "name": "python",
   "nbconvert_exporter": "python",
   "pygments_lexer": "ipython2",
   "version": "2.7.15"
  }
 },
 "nbformat": 4,
 "nbformat_minor": 2
}
